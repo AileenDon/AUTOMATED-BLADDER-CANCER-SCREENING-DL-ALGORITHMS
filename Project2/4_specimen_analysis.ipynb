{
 "cells": [
  {
   "cell_type": "code",
   "execution_count": null,
   "id": "cd4aacc7",
   "metadata": {},
   "outputs": [
    {
     "name": "stdout",
     "output_type": "stream",
     "text": [
      "dict_keys(['neg', 'pos', 'aty', 'sus'])\n",
      "Keys in sample: dict_keys(['imgs', 'metadata'])\n",
      "Shape of first image: (44, 34, 3)\n"
     ]
    },
    {
     "name": "stderr",
     "output_type": "stream",
     "text": [
      "/var/folders/36/5p94v0y16wzdmb1_3wfvx09m0000gn/T/ipykernel_18516/3216106709.py:10: DeprecationWarning: numpy.core.numeric is deprecated and has been renamed to numpy._core.numeric. The numpy._core namespace contains private NumPy internals and its use is discouraged, as NumPy internals can change without warning in any release. In practice, most real-world usage of numpy.core is to access functionality in the public NumPy API. If that is the case, use the public NumPy API. If not, you are using NumPy internals. If you would still like to access an internal attribute, use numpy._core.numeric._frombuffer.\n",
      "  specimens = pickle.load(f)\n"
     ]
    },
    {
     "data": {
      "image/png": "[encoded data removed]",
      "text/plain": [
       "<Figure size 640x480 with 1 Axes>"
      ]
     },
     "metadata": {},
     "output_type": "display_data"
    }
   ],
   "source": [
    "import pickle\n",
    "import matplotlib.pyplot as plt\n",
    "import numpy as np\n",
    "from semseg_functions import make_predictions\n",
    "\n",
    "\n",
    "# Load the pickled specimen dataset\n",
    "with open(\"specimens_toy_data.pkl\", \"rb\") as f:\n",
    "    specimens = pickle.load(f)\n",
    "\n",
    "print(specimens.keys())\n",
    "sample = specimens[\"neg\"]\n",
    "print(\"Keys in sample:\", sample.keys())\n",
    "print(\"Shape of first image:\", np.array(sample[\"imgs\"][0]).shape)\n",
    "\n",
    "plt.imshow(sample[\"imgs\"][0])\n",
    "plt.axis(\"off\")\n",
    "plt.title(\"Sample Image from 'neg'\")\n",
    "plt.show()\n"
   ]
  },
  {
   "cell_type": "code",
   "execution_count": 15,
   "id": "e169182e",
   "metadata": {},
   "outputs": [],
   "source": [
    "from functools import reduce\n",
    "import cv2\n",
    "import torch\n",
    "import numpy as np\n",
    "\n",
    "resize = lambda x: cv2.resize(x, (256, 256), interpolation=cv2.INTER_CUBIC)\n",
    "\n",
    "all_images = reduce(lambda x, y: x + y, [list(map(resize, specimens[k][\"imgs\"])) for k in specimens])\n",
    "all_labels = reduce(lambda x, y: x + y, [[k]*len(specimens[k][\"imgs\"]) for k in specimens])  \n",
    "\n",
    "X_specimen = torch.FloatTensor(np.array(all_images) / 255.0).permute(0, 3, 1, 2)\n"
   ]
  },
  {
   "cell_type": "markdown",
   "id": "87117c2c",
   "metadata": {},
   "source": [
    "Convert specimen images, run segmentation prediction"
   ]
  },
  {
   "cell_type": "code",
   "execution_count": 9,
   "id": "3b7732e9",
   "metadata": {},
   "outputs": [
    {
     "name": "stdout",
     "output_type": "stream",
     "text": [
      "Predicted mask shape: (100, 256, 256)\n"
     ]
    }
   ],
   "source": [
    "y_specimen_pred = make_predictions(\n",
    "    X_specimen, \n",
    "    encoder_name=\"resnet34\", \n",
    "    model_key=\"fpn\"\n",
    ")\n",
    "y_specimen_pred_lbls = y_specimen_pred.argmax(axis=1)\n",
    "\n",
    "print(\"Predicted mask shape:\", y_specimen_pred_lbls.shape)"
   ]
  },
  {
   "cell_type": "markdown",
   "id": "d57e0f3d",
   "metadata": {},
   "source": [
    "Compute N/C Ratios from Predicted Masks"
   ]
  },
  {
   "cell_type": "code",
   "execution_count": null,
   "id": "4b9506d4",
   "metadata": {},
   "outputs": [
    {
     "name": "stdout",
     "output_type": "stream",
     "text": [
      "Cell 0: Nucleus=35007, Cytoplasm=26222, N/C Ratio=0.572\n",
      "Cell 1: Nucleus=34990, Cytoplasm=26237, N/C Ratio=0.571\n",
      "Cell 2: Nucleus=34989, Cytoplasm=26241, N/C Ratio=0.571\n",
      "Cell 3: Nucleus=34990, Cytoplasm=26241, N/C Ratio=0.571\n",
      "Cell 4: Nucleus=34998, Cytoplasm=26229, N/C Ratio=0.572\n"
     ]
    }
   ],
   "source": [
    "nucleus_pixels = (y_specimen_pred_lbls == 2).sum(axis=(1, 2))  \n",
    "cytoplasm_pixels = (y_specimen_pred_lbls == 1).sum(axis=(1, 2))\n",
    "\n",
    "nc_ratios = nucleus_pixels / (nucleus_pixels + cytoplasm_pixels)\n",
    "\n",
    "for i in range(5):\n",
    "    print(f\"Cell {i}: Nucleus={nucleus_pixels[i]}, Cytoplasm={cytoplasm_pixels[i]}, N/C Ratio={nc_ratios[i]:.3f}\")\n"
   ]
  },
  {
   "cell_type": "markdown",
   "id": "be04283e",
   "metadata": {},
   "source": [
    "Create the DataFrame"
   ]
  },
  {
   "cell_type": "code",
   "execution_count": null,
   "id": "dd21b59e",
   "metadata": {},
   "outputs": [
    {
     "data": {
      "text/html": [
       "<div>\n",
       "<style scoped>\n",
       "    .dataframe tbody tr th:only-of-type {\n",
       "        vertical-align: middle;\n",
       "    }\n",
       "\n",
       "    .dataframe tbody tr th {\n",
       "        vertical-align: top;\n",
       "    }\n",
       "\n",
       "    .dataframe thead th {\n",
       "        text-align: right;\n",
       "    }\n",
       "</style>\n",
       "<table border=\"1\" class=\"dataframe\">\n",
       "  <thead>\n",
       "    <tr style=\"text-align: right;\">\n",
       "      <th></th>\n",
       "      <th>nc_ratio</th>\n",
       "      <th>class_</th>\n",
       "      <th>class_str</th>\n",
       "    </tr>\n",
       "  </thead>\n",
       "  <tbody>\n",
       "    <tr>\n",
       "      <th>0</th>\n",
       "      <td>0.571739</td>\n",
       "      <td>neg</td>\n",
       "      <td>neg</td>\n",
       "    </tr>\n",
       "    <tr>\n",
       "      <th>1</th>\n",
       "      <td>0.571480</td>\n",
       "      <td>neg</td>\n",
       "      <td>neg</td>\n",
       "    </tr>\n",
       "    <tr>\n",
       "      <th>2</th>\n",
       "      <td>0.571436</td>\n",
       "      <td>neg</td>\n",
       "      <td>neg</td>\n",
       "    </tr>\n",
       "    <tr>\n",
       "      <th>3</th>\n",
       "      <td>0.571443</td>\n",
       "      <td>neg</td>\n",
       "      <td>neg</td>\n",
       "    </tr>\n",
       "    <tr>\n",
       "      <th>4</th>\n",
       "      <td>0.571611</td>\n",
       "      <td>neg</td>\n",
       "      <td>neg</td>\n",
       "    </tr>\n",
       "  </tbody>\n",
       "</table>\n",
       "</div>"
      ],
      "text/plain": [
       "   nc_ratio class_ class_str\n",
       "0  0.571739    neg       neg\n",
       "1  0.571480    neg       neg\n",
       "2  0.571436    neg       neg\n",
       "3  0.571443    neg       neg\n",
       "4  0.571611    neg       neg"
      ]
     },
     "execution_count": 20,
     "metadata": {},
     "output_type": "execute_result"
    }
   ],
   "source": [
    "import pandas as pd\n",
    "\n",
    "df = pd.DataFrame({\n",
    "    \"nc_ratio\": nc_ratios,  \n",
    "    \"class_\": all_labels     \n",
    "})\n",
    "\n",
    "df[\"class_\"] = pd.Categorical(df[\"class_\"], categories=[\"neg\", \"aty\", \"sus\", \"pos\"], ordered=True)\n",
    "\n",
    "df[\"class_str\"] = df[\"class_\"].astype(str)\n",
    "\n",
    "df.head()\n",
    "\n"
   ]
  },
  {
   "cell_type": "markdown",
   "id": "0ce9c043",
   "metadata": {},
   "source": [
    "Plot Boxplot of N/C Ratio by Class"
   ]
  },
  {
   "cell_type": "code",
   "execution_count": 21,
   "id": "9f218f70",
   "metadata": {},
   "outputs": [
    {
     "data": {
      "image/png": "[encoded data removed]",
      "text/plain": [
       "<Figure size 600x400 with 1 Axes>"
      ]
     },
     "metadata": {},
     "output_type": "display_data"
    }
   ],
   "source": [
    "import seaborn as sns\n",
    "import matplotlib.pyplot as plt\n",
    "\n",
    "plt.figure(figsize=(6, 4))\n",
    "sns.boxplot(x=\"class_\", y=\"nc_ratio\", data=df)\n",
    "plt.title(\"N/C Ratio by Diagnosis Class\")\n",
    "plt.xlabel(\"Diagnosis Category\")\n",
    "plt.ylabel(\"N/C Ratio\")\n",
    "sns.despine()\n",
    "plt.tight_layout()\n",
    "plt.show()\n"
   ]
  },
  {
   "cell_type": "markdown",
   "id": "4ebbcb28",
   "metadata": {},
   "source": [
    "Spearman Correlation"
   ]
  },
  {
   "cell_type": "code",
   "execution_count": 24,
   "id": "98feea59",
   "metadata": {},
   "outputs": [
    {
     "name": "stdout",
     "output_type": "stream",
     "text": [
      "Spearman correlation: 0.518  (p = 3.31e-08)\n"
     ]
    }
   ],
   "source": [
    "from scipy.stats import spearmanr\n",
    "\n",
    "ordinal_classes = df[\"class_\"].cat.codes\n",
    "\n",
    "corr, pval = spearmanr(df[\"nc_ratio\"], ordinal_classes)\n",
    "print(f\"Spearman correlation: {corr:.3f}  (p = {pval:.2e})\")\n"
   ]
  },
  {
   "cell_type": "markdown",
   "id": "eb482629",
   "metadata": {},
   "source": [
    "Binary Classification"
   ]
  },
  {
   "cell_type": "code",
   "execution_count": 26,
   "id": "c6ffce2b",
   "metadata": {},
   "outputs": [
    {
     "name": "stdout",
     "output_type": "stream",
     "text": [
      "              precision    recall  f1-score   support\n",
      "\n",
      "    Low Risk       0.74      0.84      0.79        50\n",
      "   High Risk       0.81      0.70      0.75        50\n",
      "\n",
      "    accuracy                           0.77       100\n",
      "   macro avg       0.78      0.77      0.77       100\n",
      "weighted avg       0.78      0.77      0.77       100\n",
      "\n"
     ]
    }
   ],
   "source": [
    "from sklearn.metrics import classification_report\n",
    "from sklearn.linear_model import LogisticRegression\n",
    "\n",
    "df[\"binary_label\"] = df[\"class_\"].map(lambda x: 1 if x in [\"sus\", \"pos\"] else 0)\n",
    "\n",
    "clf = LogisticRegression()\n",
    "clf.fit(df[\"nc_ratio\"].values.reshape(-1, 1), df[\"binary_label\"])\n",
    "\n",
    "preds = clf.predict(df[\"nc_ratio\"].values.reshape(-1, 1))\n",
    "print(classification_report(df[\"binary_label\"], preds, target_names=[\"Low Risk\", \"High Risk\"]))\n",
    "\n"
   ]
  },
  {
   "cell_type": "code",
   "execution_count": null,
   "id": "dbf5ff6d",
   "metadata": {},
   "outputs": [],
   "source": []
  },
  {
   "cell_type": "markdown",
   "id": "126f6484",
   "metadata": {},
   "source": [
    "Define thresholds for risk categories and visualize"
   ]
  },
  {
   "cell_type": "code",
   "execution_count": null,
   "id": "1c77a126",
   "metadata": {},
   "outputs": [
    {
     "name": "stdout",
     "output_type": "stream",
     "text": [
      "risk_score\n",
      "Medium    63\n",
      "Low       20\n",
      "High      17\n",
      "Name: count, dtype: int64\n"
     ]
    },
    {
     "data": {
      "image/png": "[encoded data removed]",
      "text/plain": [
       "<Figure size 640x480 with 1 Axes>"
      ]
     },
     "metadata": {},
     "output_type": "display_data"
    },
    {
     "data": {
      "text/html": [
       "<div>\n",
       "<style scoped>\n",
       "    .dataframe tbody tr th:only-of-type {\n",
       "        vertical-align: middle;\n",
       "    }\n",
       "\n",
       "    .dataframe tbody tr th {\n",
       "        vertical-align: top;\n",
       "    }\n",
       "\n",
       "    .dataframe thead th {\n",
       "        text-align: right;\n",
       "    }\n",
       "</style>\n",
       "<table border=\"1\" class=\"dataframe\">\n",
       "  <thead>\n",
       "    <tr style=\"text-align: right;\">\n",
       "      <th>risk_score</th>\n",
       "      <th>High</th>\n",
       "      <th>Low</th>\n",
       "      <th>Medium</th>\n",
       "    </tr>\n",
       "    <tr>\n",
       "      <th>class_</th>\n",
       "      <th></th>\n",
       "      <th></th>\n",
       "      <th></th>\n",
       "    </tr>\n",
       "  </thead>\n",
       "  <tbody>\n",
       "    <tr>\n",
       "      <th>neg</th>\n",
       "      <td>0.00</td>\n",
       "      <td>0.40</td>\n",
       "      <td>0.60</td>\n",
       "    </tr>\n",
       "    <tr>\n",
       "      <th>aty</th>\n",
       "      <td>0.08</td>\n",
       "      <td>0.28</td>\n",
       "      <td>0.64</td>\n",
       "    </tr>\n",
       "    <tr>\n",
       "      <th>sus</th>\n",
       "      <td>0.36</td>\n",
       "      <td>0.00</td>\n",
       "      <td>0.64</td>\n",
       "    </tr>\n",
       "    <tr>\n",
       "      <th>pos</th>\n",
       "      <td>0.24</td>\n",
       "      <td>0.12</td>\n",
       "      <td>0.64</td>\n",
       "    </tr>\n",
       "  </tbody>\n",
       "</table>\n",
       "</div>"
      ],
      "text/plain": [
       "risk_score  High   Low  Medium\n",
       "class_                        \n",
       "neg         0.00  0.40    0.60\n",
       "aty         0.08  0.28    0.64\n",
       "sus         0.36  0.00    0.64\n",
       "pos         0.24  0.12    0.64"
      ]
     },
     "execution_count": 35,
     "metadata": {},
     "output_type": "execute_result"
    }
   ],
   "source": [
    "import seaborn as sns\n",
    "import matplotlib.pyplot as plt\n",
    "# Create risk category\n",
    "def categorize_risk(nc):\n",
    "    if nc < 0.5714:\n",
    "        return \"Low\"\n",
    "    elif nc < 0.5725:\n",
    "        return \"Medium\"\n",
    "    else:\n",
    "        return \"High\"\n",
    "\n",
    "df[\"risk_score\"] = df[\"nc_ratio\"].apply(categorize_risk)\n",
    "print(df[\"risk_score\"].value_counts())\n",
    "\n",
    "# Visualize the risk distribution\n",
    "sns.countplot(x=\"risk_score\", data=df)\n",
    "plt.title(\"Cell Risk Category Distribution\")\n",
    "plt.show()\n",
    "\n",
    "# Evaluate Risk Scoring vs True Diagnosis\n",
    "pd.crosstab(df[\"class_\"], df[\"risk_score\"], normalize=\"index\")\n",
    "\n"
   ]
  },
  {
   "cell_type": "markdown",
   "id": "d5b86901",
   "metadata": {},
   "source": [
    "Compare Risk Score to Diagnosis"
   ]
  },
  {
   "cell_type": "code",
   "execution_count": 37,
   "id": "fd05d6d4",
   "metadata": {},
   "outputs": [
    {
     "name": "stdout",
     "output_type": "stream",
     "text": [
      "Risk classification accuracy: 0.64\n",
      "Confusion matrix:\n",
      " [[17 33]\n",
      " [ 3 47]]\n"
     ]
    },
    {
     "data": {
      "image/png": "[encoded data removed]",
      "text/plain": [
       "<Figure size 400x300 with 2 Axes>"
      ]
     },
     "metadata": {},
     "output_type": "display_data"
    },
    {
     "data": {
      "text/html": [
       "<div>\n",
       "<style scoped>\n",
       "    .dataframe tbody tr th:only-of-type {\n",
       "        vertical-align: middle;\n",
       "    }\n",
       "\n",
       "    .dataframe tbody tr th {\n",
       "        vertical-align: top;\n",
       "    }\n",
       "\n",
       "    .dataframe thead th {\n",
       "        text-align: right;\n",
       "    }\n",
       "</style>\n",
       "<table border=\"1\" class=\"dataframe\">\n",
       "  <thead>\n",
       "    <tr style=\"text-align: right;\">\n",
       "      <th></th>\n",
       "      <th>nc_ratio</th>\n",
       "      <th>class_</th>\n",
       "      <th>true_risk</th>\n",
       "      <th>predicted_risk</th>\n",
       "      <th>correct</th>\n",
       "    </tr>\n",
       "  </thead>\n",
       "  <tbody>\n",
       "    <tr>\n",
       "      <th>0</th>\n",
       "      <td>0.571739</td>\n",
       "      <td>neg</td>\n",
       "      <td>Low</td>\n",
       "      <td>High</td>\n",
       "      <td>False</td>\n",
       "    </tr>\n",
       "    <tr>\n",
       "      <th>1</th>\n",
       "      <td>0.571480</td>\n",
       "      <td>neg</td>\n",
       "      <td>Low</td>\n",
       "      <td>High</td>\n",
       "      <td>False</td>\n",
       "    </tr>\n",
       "    <tr>\n",
       "      <th>2</th>\n",
       "      <td>0.571436</td>\n",
       "      <td>neg</td>\n",
       "      <td>Low</td>\n",
       "      <td>High</td>\n",
       "      <td>False</td>\n",
       "    </tr>\n",
       "    <tr>\n",
       "      <th>3</th>\n",
       "      <td>0.571443</td>\n",
       "      <td>neg</td>\n",
       "      <td>Low</td>\n",
       "      <td>High</td>\n",
       "      <td>False</td>\n",
       "    </tr>\n",
       "    <tr>\n",
       "      <th>4</th>\n",
       "      <td>0.571611</td>\n",
       "      <td>neg</td>\n",
       "      <td>Low</td>\n",
       "      <td>High</td>\n",
       "      <td>False</td>\n",
       "    </tr>\n",
       "  </tbody>\n",
       "</table>\n",
       "</div>"
      ],
      "text/plain": [
       "   nc_ratio class_ true_risk predicted_risk  correct\n",
       "0  0.571739    neg       Low           High    False\n",
       "1  0.571480    neg       Low           High    False\n",
       "2  0.571436    neg       Low           High    False\n",
       "3  0.571443    neg       Low           High    False\n",
       "4  0.571611    neg       Low           High    False"
      ]
     },
     "execution_count": 37,
     "metadata": {},
     "output_type": "execute_result"
    }
   ],
   "source": [
    "import pandas as pd\n",
    "from sklearn.metrics import confusion_matrix, accuracy_score\n",
    "import seaborn as sns\n",
    "import matplotlib.pyplot as plt\n",
    "\n",
    "def risk_score(nc):\n",
    "    if nc < 0.5714:\n",
    "        return \"Low\"\n",
    "    else:\n",
    "        return \"High\"\n",
    "\n",
    "df[\"predicted_risk\"] = df[\"nc_ratio\"].apply(risk_score)\n",
    "df[\"true_risk\"] = df[\"class_\"].apply(lambda x: \"High\" if x in [\"sus\", \"pos\"] else \"Low\")\n",
    "df[\"correct\"] = df[\"predicted_risk\"] == df[\"true_risk\"]\n",
    "\n",
    "acc = accuracy_score(df[\"true_risk\"], df[\"predicted_risk\"])\n",
    "cm = confusion_matrix(df[\"true_risk\"], df[\"predicted_risk\"], labels=[\"Low\", \"High\"])\n",
    "\n",
    "print(f\"Risk classification accuracy: {acc:.2f}\")\n",
    "print(\"Confusion matrix:\\n\", cm)\n",
    "\n",
    "# Visualize confusion matrix heatmap\n",
    "plt.figure(figsize=(4, 3))\n",
    "sns.heatmap(cm, annot=True, fmt=\"d\", cmap=\"Blues\", xticklabels=[\"Low\", \"High\"], yticklabels=[\"Low\", \"High\"])\n",
    "plt.xlabel(\"Predicted Risk\")\n",
    "plt.ylabel(\"True Risk\")\n",
    "plt.title(\"Confusion Matrix: Predicted vs. True Risk\")\n",
    "plt.tight_layout()\n",
    "plt.show()\n",
    "\n",
    "df[[\"nc_ratio\", \"class_\", \"true_risk\", \"predicted_risk\", \"correct\"]].head()\n"
   ]
  },
  {
   "cell_type": "markdown",
   "id": "efe69f9e",
   "metadata": {},
   "source": [
    "Traditional Segmentation Comparison"
   ]
  },
  {
   "cell_type": "code",
   "execution_count": null,
   "id": "fd8897b8",
   "metadata": {},
   "outputs": [
    {
     "name": "stderr",
     "output_type": "stream",
     "text": [
      "100%|██████████| 100/100 [00:01<00:00, 70.21it/s]\n"
     ]
    }
   ],
   "source": [
    "import numpy as np\n",
    "import cv2\n",
    "from skimage.color import rgb2gray\n",
    "from skimage.morphology import disk, binary_opening, binary_closing\n",
    "from skimage.filters import threshold_otsu\n",
    "from tqdm import tqdm\n",
    "\n",
    "traditional_nc_ratios = []\n",
    "\n",
    "for img in tqdm(all_images):\n",
    "    img_gray = rgb2gray(img)\n",
    "\n",
    "    thresh_nucleus = threshold_otsu(img_gray)\n",
    "    nucleus_mask = img_gray < thresh_nucleus * 0.95\n",
    "    nucleus_mask = binary_closing(binary_opening(nucleus_mask, disk(3)), disk(5))\n",
    "\n",
    "    cytoplasm_mask = (img_gray >= thresh_nucleus * 0.95) & (img_gray <= thresh_nucleus * 1.05)\n",
    "    cytoplasm_mask = binary_closing(binary_opening(cytoplasm_mask, disk(3)), disk(5))\n",
    "\n",
    "    nucleus_area = np.sum(nucleus_mask)\n",
    "    cytoplasm_area = np.sum(cytoplasm_mask)\n",
    "\n",
    "    if nucleus_area + cytoplasm_area > 0:\n",
    "        nc_ratio = nucleus_area / (nucleus_area + cytoplasm_area)\n",
    "    else:\n",
    "        nc_ratio = np.nan\n",
    "\n",
    "    traditional_nc_ratios.append(nc_ratio)\n"
   ]
  },
  {
   "cell_type": "code",
   "execution_count": null,
   "id": "eb44bae7",
   "metadata": {},
   "outputs": [
    {
     "data": {
      "image/png": "[encoded data removed]",
      "text/plain": [
       "<Figure size 1000x400 with 2 Axes>"
      ]
     },
     "metadata": {},
     "output_type": "display_data"
    }
   ],
   "source": [
    "df_traditional = pd.DataFrame({\n",
    "    \"nc_ratio_dl\": df[\"nc_ratio\"],               \n",
    "    \"nc_ratio_trad\": traditional_nc_ratios,\n",
    "    \"class_\": all_labels\n",
    "})\n",
    "plt.figure(figsize=(10, 4))\n",
    "\n",
    "plt.subplot(1, 2, 1)\n",
    "sns.boxplot(x=\"class_\", y=\"nc_ratio_dl\", data=df_traditional)\n",
    "plt.title(\"DL Model N/C Ratios\")\n",
    "\n",
    "plt.subplot(1, 2, 2)\n",
    "sns.boxplot(x=\"class_\", y=\"nc_ratio_trad\", data=df_traditional)\n",
    "plt.title(\"Traditional N/C Ratios\")\n",
    "\n",
    "plt.tight_layout()\n",
    "plt.show()\n",
    "\n"
   ]
  }
 ],
 "metadata": {
  "kernelspec": {
   "display_name": "Python (venv)",
   "language": "python",
   "name": "venv"
  },
  "language_info": {
   "codemirror_mode": {
    "name": "ipython",
    "version": 3
   },
   "file_extension": ".py",
   "mimetype": "text/x-python",
   "name": "python",
   "nbconvert_exporter": "python",
   "pygments_lexer": "ipython3",
   "version": "3.13.0"
  }
 },
 "nbformat": 4,
 "nbformat_minor": 5
}
